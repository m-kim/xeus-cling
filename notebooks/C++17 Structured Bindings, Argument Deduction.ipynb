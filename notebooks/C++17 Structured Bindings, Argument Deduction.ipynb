{
 "cells": [
  {
   "cell_type": "markdown",
   "metadata": {},
   "source": [
    "Working through some new C++17 features from FluentCpp"
   ]
  },
  {
   "cell_type": "code",
   "execution_count": 1,
   "metadata": {
    "scrolled": false
   },
   "outputs": [],
   "source": [
    "std::tuple<char, int, bool> mytuple()\n",
    "{\n",
    "    char a = 'a';\n",
    "    int i = 123;\n",
    "    bool b = true;\n",
    "    return std::make_tuple(a, i, b);\n",
    "}\n",
    " \n",
    "char a;\n",
    "int i;\n",
    "bool b;\n",
    " \n",
    "std::tie(a, i, b) = mytuple();"
   ]
  },
  {
   "cell_type": "code",
   "execution_count": 2,
   "metadata": {},
   "outputs": [],
   "source": [
    "auto [a, i, b] = mytuple();"
   ]
  },
  {
   "cell_type": "code",
   "execution_count": 3,
   "metadata": {},
   "outputs": [
    {
     "name": "stdout",
     "output_type": "stream",
     "text": [
      "a 123 1\n"
     ]
    }
   ],
   "source": [
    "std::cout << a << \" \" << i << \" \" << b << std::endl;"
   ]
  },
  {
   "cell_type": "code",
   "execution_count": 4,
   "metadata": {},
   "outputs": [],
   "source": [
    "auto mytuple3()\n",
    "{\n",
    "    char a = 'a';\n",
    "    int i = 123;\n",
    "    bool b = true;\n",
    "    return std::make_tuple(a, i, b);\n",
    "}"
   ]
  },
  {
   "cell_type": "code",
   "execution_count": 5,
   "metadata": {},
   "outputs": [],
   "source": [
    "auto mytuple2()\n",
    "{\n",
    "    return std::make_tuple('a', 123, true);\n",
    "}"
   ]
  },
  {
   "cell_type": "code",
   "execution_count": 6,
   "metadata": {},
   "outputs": [],
   "source": [
    "auto [a, i, b] = mytuple3();"
   ]
  },
  {
   "cell_type": "code",
   "execution_count": 7,
   "metadata": {},
   "outputs": [
    {
     "name": "stdout",
     "output_type": "stream",
     "text": [
      "a 123 1\n"
     ]
    }
   ],
   "source": [
    "std::cout << a << \" \" << i << \" \" << b << std::endl;"
   ]
  },
  {
   "cell_type": "code",
   "execution_count": 8,
   "metadata": {},
   "outputs": [
    {
     "name": "stdout",
     "output_type": "stream",
     "text": [
      "a 100 1\n"
     ]
    }
   ],
   "source": [
    "std::map<char,int> mymap;\n",
    "std::pair<std::map<char,int>::iterator,bool> mapret = mymap.insert(std::pair<char, int>('a', 100));\n",
    "\n",
    "std::cout << mapret.first->first << \" \" << mapret.first->second << \" \" << mapret.second << std::endl;\n"
   ]
  },
  {
   "cell_type": "code",
   "execution_count": 9,
   "metadata": {},
   "outputs": [
    {
     "name": "stdout",
     "output_type": "stream",
     "text": [
      "a 100 1\n"
     ]
    }
   ],
   "source": [
    "std::map<char,int> mymap2;\n",
    "auto mapret2 = mymap2.insert(std::pair('a', 100));\n",
    "\n",
    "std::cout << mapret2.first->first << \" \" << mapret2.first->second << \" \" << mapret2.second << std::endl;"
   ]
  },
  {
   "cell_type": "code",
   "execution_count": null,
   "metadata": {},
   "outputs": [],
   "source": [
    "std::map<char,int> mymap3;\n",
    "auto [itelem, success] = mymap3.insert(std::pair('a', 100));\n",
    "//if (!success) {\n",
    "//    // Insert failure\n",
    "//}\n",
    "std::cout << itelem->first << \" \" << itelem->second << \" \" << success << std::endl;"
   ]
  },
  {
   "cell_type": "code",
   "execution_count": null,
   "metadata": {},
   "outputs": [],
   "source": []
  }
 ],
 "metadata": {
  "kernelspec": {
   "display_name": "C++17",
   "language": "C++17",
   "name": "xeus-cling-cpp17"
  },
  "language_info": {
   "codemirror_mode": "text/x-c++src",
   "file_extension": ".cpp",
   "mimetype": "text/x-c++src",
   "name": "c++",
   "version": "17"
  }
 },
 "nbformat": 4,
 "nbformat_minor": 2
}
