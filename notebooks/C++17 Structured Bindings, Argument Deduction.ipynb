{
 "cells": [
  {
   "cell_type": "markdown",
   "metadata": {},
   "source": [
    "Working through some new C++17 features from FluentCpp"
   ]
  },
  {
   "cell_type": "code",
   "execution_count": 1,
   "metadata": {
    "scrolled": false
   },
   "outputs": [],
   "source": [
    "std::tuple<char, int, bool> mytuple()\n",
    "{\n",
    "    char a = 'a';\n",
    "    int i = 123;\n",
    "    bool b = true;\n",
    "    return std::make_tuple(a, i, b);\n",
    "}\n",
    " \n",
    "char a;\n",
    "int i;\n",
    "bool b;\n",
    " \n",
    "std::tie(a, i, b) = mytuple();"
   ]
  },
  {
   "cell_type": "code",
   "execution_count": 2,
   "metadata": {},
   "outputs": [],
   "source": [
    "auto [a, i, b] = mytuple();"
   ]
  },
  {
   "cell_type": "code",
   "execution_count": 3,
   "metadata": {},
   "outputs": [
    {
     "name": "stdout",
     "output_type": "stream",
     "text": [
      "a 123 1\n"
     ]
    }
   ],
   "source": [
    "std::cout << a << \" \" << i << \" \" << b << std::endl;"
   ]
  },
  {
   "cell_type": "code",
   "execution_count": 4,
   "metadata": {},
   "outputs": [],
   "source": [
    "auto mytuple3()\n",
    "{\n",
    "    char a = 'a';\n",
    "    int i = 123;\n",
    "    bool b = true;\n",
    "    return std::make_tuple(a, i, b);\n",
    "}"
   ]
  },
  {
   "cell_type": "code",
   "execution_count": 5,
   "metadata": {},
   "outputs": [],
   "source": [
    "auto mytuple2()\n",
    "{\n",
    "    return std::make_tuple('a', 123, true);\n",
    "}"
   ]
  },
  {
   "cell_type": "code",
   "execution_count": 6,
   "metadata": {},
   "outputs": [],
   "source": [
    "auto [a, i, b] = mytuple3();"
   ]
  },
  {
   "cell_type": "code",
   "execution_count": 7,
   "metadata": {},
   "outputs": [
    {
     "name": "stdout",
     "output_type": "stream",
     "text": [
      "a 123 1\n"
     ]
    }
   ],
   "source": [
    "std::cout << a << \" \" << i << \" \" << b << std::endl;"
   ]
  },
  {
   "cell_type": "code",
   "execution_count": null,
   "metadata": {},
   "outputs": [],
   "source": []
  }
 ],
 "metadata": {
  "kernelspec": {
   "display_name": "C++17",
   "language": "C++17",
   "name": "xeus-cling-cpp17"
  },
  "language_info": {
   "codemirror_mode": "text/x-c++src",
   "file_extension": ".cpp",
   "mimetype": "text/x-c++src",
   "name": "c++",
   "version": "17"
  }
 },
 "nbformat": 4,
 "nbformat_minor": 2
}
